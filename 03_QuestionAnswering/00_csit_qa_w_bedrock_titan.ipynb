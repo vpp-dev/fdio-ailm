{
 "cells": [
  {
   "cell_type": "markdown",
   "metadata": {},
   "source": [
    "# Question and answers with Bedrock\n",
    "\n",
    "> *This notebook should work well with the **`Data Science 3.0`** kernel in SageMaker Studio*\n",
    "\n",
    "Question Answering (QA) is an important task that involves extracting answers to factual queries posed in natural language. Typically, a QA system processes a query against a knowledge base containing structured or unstructured data and generates a response with accurate information. Ensuring high accuracy is key to developing a useful, reliable and trustworthy question answering system, especially for enterprise use cases. \n",
    "\n",
    "Generative AI models like Titan and Claude use probability distributions to generate responses to questions. These models are trained on vast amounts of text data, which allows them to predict what comes next in a sequence or what word might follow a particular word. However, these models are not able to provide accurate or deterministic answers to every question because there is always some degree of uncertainty in the data. Enterprises need to query domain specific and proprietary data and use the information to answer questions, and more generally data on which the model has not been trained on. \n",
    "\n",
    "In this module, we will demonstrate how to use the Bedrock Titan model to provide information response to queries.\n",
    "\n",
    "In this example we will be running the Model with no context and then manually try and provide the context. There is no `RAG` augmentation happening here. This approach works with short documents or single-ton applications, it might not scale to enterprise level question answering where there could be large enterprise documents which cannot all be fit into the prompt sent to the model. \n",
    "\n",
    "### Challenges\n",
    "- How to have the model return factual answers for question\n",
    "\n",
    "### Proposal\n",
    "To the above challenges, this notebook proposes the following strategy\n",
    "#### Prepare documents\n",
    "Before being able to answer the questions, the documents must be processed and a stored in a document store index\n",
    "- Here we will send in the request with the full relevant context to the model and expect the response back\n"
   ]
  },
  {
   "cell_type": "markdown",
   "metadata": {},
   "source": [
    "## Setup\n",
    "\n",
    "⚠️ ⚠️ ⚠️ Before running this notebook, ensure you've run the [Bedrock boto3 setup notebook](../00_Intro/bedrock_boto3_setup.ipynb#Prerequisites) notebook. ⚠️ ⚠️ ⚠️\n"
   ]
  },
  {
   "cell_type": "code",
   "execution_count": 71,
   "metadata": {
    "tags": []
   },
   "outputs": [],
   "source": [
    "import warnings\n",
    "warnings.filterwarnings('ignore')"
   ]
  },
  {
   "cell_type": "code",
   "execution_count": 72,
   "metadata": {
    "tags": []
   },
   "outputs": [
    {
     "name": "stdout",
     "output_type": "stream",
     "text": [
      "Create new client\n",
      "  Using region: us-east-1\n",
      "boto3 Bedrock client successfully created!\n",
      "bedrock-runtime(https://bedrock-runtime.us-east-1.amazonaws.com)\n"
     ]
    }
   ],
   "source": [
    "import json\n",
    "import os\n",
    "import sys\n",
    "\n",
    "import boto3\n",
    "import botocore\n",
    "\n",
    "\n",
    "module_path = \"..\"\n",
    "sys.path.append(os.path.abspath(module_path))\n",
    "from utils import bedrock, print_ww\n",
    "\n",
    "\n",
    "# ---- ⚠️ Un-comment and edit the below lines as needed for your AWS setup ⚠️ ----\n",
    "\n",
    "# os.environ[\"AWS_DEFAULT_REGION\"] = \"<REGION_NAME>\"  # E.g. \"us-east-1\"\n",
    "# os.environ[\"AWS_PROFILE\"] = \"<YOUR_PROFILE>\"\n",
    "# os.environ[\"BEDROCK_ASSUME_ROLE\"] = \"<YOUR_ROLE_ARN>\"  # E.g. \"arn:aws:...\"\n",
    "\n",
    "boto3_bedrock = bedrock.get_bedrock_client(\n",
    "    assumed_role=os.environ.get(\"BEDROCK_ASSUME_ROLE\", None),\n",
    "    region=os.environ.get(\"AWS_DEFAULT_REGION\", None)\n",
    ")"
   ]
  },
  {
   "cell_type": "markdown",
   "metadata": {},
   "source": [
    "## Section 1: Q&A with the knowledge of the model\n",
    "In this section we try to use models provided by Bedrock service to answer questions based on the knowledge it gained during the training phase."
   ]
  },
  {
   "cell_type": "markdown",
   "metadata": {},
   "source": [
    "In this Notebook we will be using the `invoke_model()` method of Amazon Bedrock client. The mandatory parameters required to use this method are `modelId` which represents the Amazon Bedrock model ARN, and `body` which is the prompt for our task. The `body` prompt changes depending on the foundation model provider selected. We walk through this in detail below\n",
    "\n",
    "```\n",
    "{\n",
    "   modelId= model_id,\n",
    "   contentType= \"application/json\",\n",
    "   accept= \"application/json\",\n",
    "   body=body\n",
    "}\n",
    "\n",
    "```"
   ]
  },
  {
   "cell_type": "code",
   "execution_count": 73,
   "metadata": {
    "tags": []
   },
   "outputs": [],
   "source": [
    "context = \"\"\"18:14:20,387 --- setUpClass() for Flowprobe called ---\n",
    "18:14:20,387 Temporary dir is /tmp/vpp-unittest-Flowprobe, api socket is /tmp/vpp-unittest-Flowprobe/api.sock\n",
    "18:14:20,387 Random seed is 1701279145.6510966\n",
    "18:14:20,388 vpp_cmdline args: ['/w/workspace/vpp-debug-verify-master-ubuntu2204-x86_64/build-root/install-vpp_debug-native/vpp/bin/vpp', 'unix', '{', 'nodaemon', '', 'full-coredump', 'coredump-size unlimited', 'runtime-dir', '/tmp/vpp-unittest-Flowprobe', '}', 'api-trace', '{', 'on', '}', 'api-segment', '{', 'prefix', 'vpp-unittest-Flowprobe', '}', 'cpu', '{', 'main-core', '75', '}', 'physmem', '{', 'max-size', '32m', '}', 'statseg', '{', 'socket-name', '/tmp/vpp-unittest-Flowprobe/stats.sock', '', '}', 'socksvr', '{', 'socket-name', '/tmp/vpp-unittest-Flowprobe/api.sock', '}', 'node { ', '', '}', 'api-fuzz {', 'off', '}', 'plugins', '{', 'plugin', 'dpdk_plugin.so', '{', 'disable', '}', 'plugin', 'rdma_plugin.so', '{', 'disable', '}', 'plugin', 'lisp_unittest_plugin.so', '{', 'enable', '}', 'plugin', 'unittest_plugin.so', '{', 'enable', '}', '}']\n",
    "18:14:20,388 vpp_cmdline: /w/workspace/vpp-debug-verify-master-ubuntu2204-x86_64/build-root/install-vpp_debug-native/vpp/bin/vpp unix { nodaemon  full-coredump coredump-size unlimited runtime-dir /tmp/vpp-unittest-Flowprobe } api-trace { on } api-segment { prefix vpp-unittest-Flowprobe } cpu { main-core 75 } physmem { max-size 32m } statseg { socket-name /tmp/vpp-unittest-Flowprobe/stats.sock  } socksvr { socket-name /tmp/vpp-unittest-Flowprobe/api.sock } node {   } api-fuzz { off } plugins { plugin dpdk_plugin.so { disable } plugin rdma_plugin.so { disable } plugin lisp_unittest_plugin.so { enable } plugin unittest_plugin.so { enable } }\n",
    "18:14:20,388 Assigned cpus: [75]\n",
    "18:14:20,389 Spawned VPP with PID: 373305\n",
    "18:14:21,722 --- END setUpClass() Flowprobe ---\n",
    "18:14:21,781 Calling sw_interface_set_flags('flags':<vl_api_if_status_flags_t.IF_STATUS_API_FLAG_ADMIN_UP: 1>,'sw_if_index':1,'context':532382,'_vl_msg_id':704,'client_index':2147483649)\n",
    "18:14:21,782 Return value: sw_interface_set_flags_reply(_0=705, context=532382, retval=0)\n",
    "18:14:21,782 API: sw_interface_set_flags (flags=<vl_api_if_status_flags_t.IF_STATUS_API_FLAG_ADMIN_UP: 1>, sw_if_index=2)\n",
    "18:14:21,782 Calling sw_interface_set_flags('flags':<vl_api_if_status_flags_t.IF_STATUS_API_FLAG_ADMIN_UP: 1>,'sw_if_index':2,'context':532383,'_vl_msg_id':704,'client_index':2147483649)\n",
    "18:14:21,783 Return value: sw_interface_set_flags_reply(_0=705, context=532383, retval=0)\n",
    "18:14:21,783 API: sw_interface_set_flags (flags=<vl_api_if_status_flags_t.IF_STATUS_API_FLAG_ADMIN_UP: 1>, sw_if_index=3)\n",
    "18:14:21,783 Calling sw_interface_set_flags('flags':<vl_api_if_status_flags_t.IF_STATUS_API_FLAG_ADMIN_UP: 1>,'sw_if_index':3,'context':532384,'_vl_msg_id':704,'client_index':2147483649)\n",
    "18:14:21,784 Return value: sw_interface_set_flags_reply(_0=705, context=532384, retval=0)\n",
    "18:14:21,784 API: sw_interface_set_flags (flags=<vl_api_if_status_flags_t.IF_STATUS_API_FLAG_ADMIN_UP: 1>, sw_if_index=4)\n",
    "18:14:21,784 Calling sw_interface_set_flags('flags':<vl_api_if_status_flags_t.IF_STATUS_API_FLAG_ADMIN_UP: 1>,'sw_if_index':4,'context':532385,'_vl_msg_id':704,'client_index':2147483649)\n",
    "18:14:21,785 Return value: sw_interface_set_flags_reply(_0=705, context=532385, retval=0)\n",
    "18:14:21,785 API: sw_interface_set_flags (flags=<vl_api_if_status_flags_t.IF_STATUS_API_FLAG_ADMIN_UP: 1>, sw_if_index=5)\n",
    "18:14:21,785 Calling sw_interface_set_flags('flags':<vl_api_if_status_flags_t.IF_STATUS_API_FLAG_ADMIN_UP: 1>,'sw_if_index':5,'context':532386,'_vl_msg_id':704,'client_index':2147483649)\n",
    "18:14:21,786 Return value: sw_interface_set_flags_reply(_0=705, context=532386, retval=0)\n",
    "18:14:21,786 API: sw_interface_set_flags (flags=<vl_api_if_status_flags_t.IF_STATUS_API_FLAG_ADMIN_UP: 1>, sw_if_index=6)\n",
    "18:14:21,786 Calling sw_interface_set_flags('flags':<vl_api_if_status_flags_t.IF_STATUS_API_FLAG_ADMIN_UP: 1>,'sw_if_index':6,'context':532387,'_vl_msg_id':704,'client_index':2147483649)\n",
    "18:14:21,787 Return value: sw_interface_set_flags_reply(_0=705, context=532387, retval=0)\n",
    "18:14:21,787 API: sw_interface_set_flags (flags=<vl_api_if_status_flags_t.IF_STATUS_API_FLAG_ADMIN_UP: 1>, sw_if_index=7)\n",
    "18:14:21,787 Calling sw_interface_set_flags('flags':<vl_api_if_status_flags_t.IF_STATUS_API_FLAG_ADMIN_UP: 1>,'sw_if_index':7,'context':532388,'_vl_msg_id':704,'client_index':2147483649)\n",
    "18:14:21,787 Return value: sw_interface_set_flags_reply(_0=705, context=532388, retval=0)\n",
    "18:14:21,788 API: sw_interface_set_flags (flags=<vl_api_if_status_flags_t.IF_STATUS_API_FLAG_ADMIN_UP: 1>, sw_if_index=8)\n",
    "18:14:21,788 Calling sw_interface_set_flags('flags':<vl_api_if_status_flags_t.IF_STATUS_API_FLAG_ADMIN_UP: 1>,'sw_if_index':8,'context':532389,'_vl_msg_id':704,'client_index':2147483649)\n",
    "18:14:21,788 Return value: sw_interface_set_flags_reply(_0=705, context=532389, retval=0)\n",
    "18:14:21,788 API: sw_interface_set_flags (flags=<vl_api_if_status_flags_t.IF_STATUS_API_FLAG_ADMIN_UP: 1>, sw_if_index=9)\n",
    "18:14:21,789 Calling sw_interface_set_flags('flags':<vl_api_if_status_flags_t.IF_STATUS_API_FLAG_ADMIN_UP: 1>,'sw_if_index':9,'context':532390,'_vl_msg_id':704,'client_index':2147483649)\n",
    "18:14:21,789 Return value: sw_interface_set_flags_reply(_0=705, context=532390, retval=0)\n",
    "18:14:21,789 API: sw_interface_add_del_address (sw_if_index=1, prefix='172.16.1.1/24', is_add=1)\n",
    "18:14:21,790 Calling sw_interface_add_del_address('sw_if_index':1,'prefix':'172.16.1.1/24','is_add':1,'context':532391,'_vl_msg_id':719,'client_index':2147483649)\n",
    "18:14:21,792 Return value: sw_interface_add_del_address_reply(_0=720, context=532391, retval=...\n",
    "18:14:21,792 API: ip_neighbor_add_del (is_add=1, neighbor={'sw_if_index': 1, 'flags': 0, 'mac_address': '02:01:00:00:ff:02', 'ip_address': '172.16.1.2'})\n",
    "18:14:21,792 Calling ip_neighbor_add_del('is_add':1,'neighbor':{'sw_if_index': 1, 'flags': 0, 'mac_address': '02:01:00:00:ff:02', 'ip_address': '172.16.1.2'},'context':532392,'_vl_msg_id':1040,'client_index':2147483649)\n",
    "18:14:21,794 Return value: ip_neighbor_add_del_reply(_0=1041, context=532392, retval=0, stats...\n",
    "18:14:21,794 API: sw_interface_add_del_address (sw_if_index=2, prefix='172.16.2.1/24', is_add=1)\n",
    "18:14:21,794 Calling sw_interface_add_del_address('sw_if_index':2,'prefix':'172.16.2.1/24','is_add':1,'context':532393,'_vl_msg_id':719,'client_index':2147483649)\n",
    "18:14:21,796 Return value: sw_interface_add_del_address_reply(_0=720, context=532393, retval=...\n",
    "18:14:21,796 Sending ARP request for 172.16.2.1 on port pg1\n",
    "18:14:21,799 CLI: packet-generator new pcap /tmp/vpp-unittest-Flowprobe/pg1_in.pcap source pg1 name pcap1-sw_if_index-2\n",
    "18:14:21,799 Calling cli_inband('cmd':'packet-generator new pcap /tmp/vpp-unittest-Flowprobe/pg1_in.pcap source pg1 name pcap1-sw_if_index-2\\n','context':532394,'_vl_msg_id':1394,'client_index':2147483649)\n",
    "18:14:21,801 Return value: cli_inband_reply(_0=1396, context=532394, retval=0, reply='')\n",
    "18:14:21,801 Creating hard link /tmp/vpp-unittest-Flowprobe/pg1_in.pcap->/tmp/vpp-unittest-Flowprobe/suiteFlowprobe.[timestamp:1701281661.80118060].pg1-inp-0000.pg1_in.pcap\n",
    "18:14:21,801 CLI: packet-generator capture pg1 pcap /tmp/vpp-unittest-Flowprobe/pg1_out.pcap disable\n",
    "18:14:21,801 Calling cli_inband('cmd':'packet-generator capture pg1 pcap /tmp/vpp-unittest-Flowprobe/pg1_out.pcap disable\\n','context':532395,'_vl_msg_id':1394,'client_index':2147483649)\n",
    "18:14:21,802 Return value: cli_inband_reply(_0=1396, context=532395, retval=0, reply='')\n",
    "18:14:21,802 CLI: show packet-generator\n",
    "18:14:21,802 Calling cli_inband('cmd':'show packet-generator\\n','context':532396,'_vl_msg_id':1394,'client_index':2147483649)\n",
    "18:14:21,803 Return value: cli_inband_reply(_0=1396, context=532396, retval=0, reply='Name   ...\n",
    "18:14:21,803 Unlinking /tmp/vpp-unittest-Flowprobe/pg1_out.pcap\n",
    "18:14:21,804 CLI: packet-generator capture pg1 pcap /tmp/vpp-unittest-Flowprobe/pg1_out.pcap\n",
    "18:14:21,804 Calling cli_inband('cmd':'packet-generator capture pg1 pcap /tmp/vpp-unittest-Flowprobe/pg1_out.pcap\\n','context':532397,'_vl_msg_id':1394,'client_index':2147483649)\n",
    "18:14:21,805 Return value: cli_inband_reply(_0=1396, context=532397, retval=0, reply='')\n",
    "18:14:21,805 CLI: clear trace\n",
    "18:14:21,805 Calling cli_inband('cmd':'clear trace\\n','context':532398,'_vl_msg_id':1394,'client_index':2147483649)\n",
    "18:14:21,805 Return value: cli_inband_reply(_0=1396, context=532398, retval=0, reply='')\n",
    "18:14:21,806 CLI: trace add pg-input 1000\n",
    "18:14:21,806 Calling cli_inband('cmd':'trace add pg-input 1000\\n','context':532399,'_vl_msg_id':1394,'client_index':2147483649)\n",
    "18:14:21,806 Return value: cli_inband_reply(_0=1396, context=532399, retval=0, reply='')\n",
    "18:14:21,806 CLI: packet-generator enable\n",
    "18:14:21,807 Calling cli_inband('cmd':'packet-generator enable\\n','context':532400,'_vl_msg_id':1394,'client_index':2147483649)\n",
    "18:14:21,807 Return value: cli_inband_reply(_0=1396, context=532400, retval=0, reply='')\n",
    "18:14:21,807 CLI: show packet-generator\n",
    "18:14:21,807 Calling cli_inband('cmd':'show packet-generator\\n','context':532401,'_vl_msg_id':1394,'client_index':2147483649)\n",
    "18:14:21,809 Return value: cli_inband_reply(_0=1396, context=532401, retval=0, reply='Name   ...\n",
    "18:14:21,809 CLI: packet-generator delete pcap1-sw_if_index-2\n",
    "18:14:21,809 Calling cli_inband('cmd':'packet-generator delete pcap1-sw_if_index-2\\n','context':532402,'_vl_msg_id':1394,'client_index':2147483649)\n",
    "18:14:21,810 Return value: cli_inband_reply(_0=1396, context=532402, retval=0, reply='')\n",
    "18:14:21,810 CLI: show trace\n",
    "18:14:21,810 Calling cli_inband('cmd':'show trace\\n','context':532403,'_vl_msg_id':1394,'client_index':2147483649)\n",
    "18:14:21,811 Return value: cli_inband_reply(_0=1396, context=532403, retval=0, reply='-------...\n",
    "Packet 1\n",
    "\n",
    "00:00:00:372119: pg-input\n",
    "  stream 0, 42 bytes, sw_if_index 2\n",
    "  current data 0, length 42, buffer-pool 0, ref-count 1, trace handle 0x0\n",
    "  00000000: ffffffffffff02020000ff020806000108000604000102020000ff02ac100202\n",
    "  00000020: 000000000000ac10020100000000000000000000000000000000000000000000\n",
    "  00000040: 0000000000000000000000000000000000000000000000000000000000000000\n",
    "  00000060: 0000000000000000000000000000000000000000000000000000000000000000\n",
    "00:00:00:372153: ethernet-input\n",
    "  frame: flags 0x1, hw-if-index 2, sw-if-index 2\n",
    "  ARP: 02:02:00:00:ff:02 -> ff:ff:ff:ff:ff:ff\n",
    "00:00:00:372176: l2-input\n",
    "  l2-input: sw_if_index 2 dst ff:ff:ff:ff:ff:ff src 02:02:00:00:ff:02 [l2-learn l2-flood ]\n",
    "00:00:00:372184: l2-learn\n",
    "  l2-learn: sw_if_index 2 dst ff:ff:ff:ff:ff:ff src 02:02:00:00:ff:02 bd_index 1\n",
    "00:00:00:372195: l2-flood\n",
    "  l2-flood: sw_if_index 2 dst ff:ff:ff:ff:ff:ff src 02:02:00:00:ff:02 bd_index 1\n",
    "00:00:00:372202: l2-output\n",
    "  l2-output: sw_if_index 3 dst ff:ff:ff:ff:ff:ff src 02:02:00:00:ff:02 data 08 06 00 01 08 00 06 04 00 01 02 02\n",
    "00:00:00:372208: pg2-output\n",
    "  pg2 flags 0x00180001\n",
    "  ARP: 02:02:00:00:ff:02 -> ff:ff:ff:ff:ff:ff\n",
    "  request, type ethernet/IP4, address size 6/4\n",
    "  02:02:00:00:ff:02/172.16.2.2 -> 00:00:00:00:00:00/172.16.2.1\n",
    "00:00:00:372219: pg2-tx\n",
    "    buffer 0x7ffd2: current data 0, length 42, buffer-pool 0, ref-count 1, trace handle 0x0\n",
    "                    l2-hdr-offset 0 l3-hdr-offset 14 \n",
    "  ARP: 02:02:00:00:ff:02 -> ff:ff:ff:ff:ff:ff\n",
    "  request, type ethernet/IP4, address size 6/4\n",
    "  02:02:00:00:ff:02/172.16.2.2 -> 00:00:00:00:00:00/172.16.2.1\n",
    "\n",
    "18:14:21,811 CLI: show packet-generator\n",
    "18:14:21,811 Calling cli_inband('cmd':'show packet-generator\\n','context':532404,'_vl_msg_id':1394,'client_index':2147483649)\n",
    "18:14:21,812 Return value: cli_inband_reply(_0=1396, context=532404, retval=0, reply='no stre...\n",
    "18:14:21,814 Waiting for capture file /tmp/vpp-unittest-Flowprobe/pg1_out.pcap to appear, timeout is 1s\n",
    "  File \"/usr/lib/python3.10/unittest/runner.py\", line 184, in run\n",
    "    test(result)\n",
    "   File \"/usr/lib/python3.10/unittest/suite.py\", line 84, in __call__\n",
    "    return self.run(*args, **kwds)\n",
    "   File \"/usr/lib/python3.10/unittest/suite.py\", line 114, in run\n",
    "    self._handleClassSetUp(test, result)\n",
    "   File \"/w/workspace/vpp-debug-verify-master-ubuntu2204-x86_64/test/run_tests.py\", line 604, in _handleClassSetUp\n",
    "    super()._handleClassSetUp(test, result)\n",
    "   File \"/usr/lib/python3.10/unittest/suite.py\", line 166, in _handleClassSetUp\n",
    "    setUpClass()\n",
    "   File \"/w/workspace/vpp-debug-verify-master-ubuntu2204-x86_64/test/test_flowprobe.py\", line 394, in setUpClass\n",
    "    super(Flowprobe, cls).setUpClass()\n",
    "   File \"/w/workspace/vpp-debug-verify-master-ubuntu2204-x86_64/test/test_flowprobe.py\", line 218, in setUpClass\n",
    "    cls.pg1.resolve_arp()\n",
    "   File \"/w/workspace/vpp-debug-verify-master-ubuntu2204-x86_64/test/vpp_pg_interface.py\", line 536, in resolve_arp\n",
    "    captured_packet = pg_interface.wait_for_packet(1)\n",
    "   File \"/w/workspace/vpp-debug-verify-master-ubuntu2204-x86_64/test/vpp_pg_interface.py\", line 447, in wait_for_packet\n",
    "    if not self.wait_for_capture_file(timeout):\n",
    "   File \"/w/workspace/vpp-debug-verify-master-ubuntu2204-x86_64/test/vpp_pg_interface.py\", line 390, in wait_for_capture_file\n",
    "    f\"{' '.join(format_stack(limit=10))}\"\n",
    "\n",
    "18:14:22,812 Timeout - capture file still nowhere\n",
    "18:14:22,813 No ARP received on port pg1 \"\"\""
   ]
  },
  {
   "cell_type": "markdown",
   "metadata": {},
   "source": [
    "#### Let's take the whole excerpt and pass it to the model together with the question."
   ]
  },
  {
   "cell_type": "code",
   "execution_count": 74,
   "metadata": {
    "tags": []
   },
   "outputs": [],
   "source": [
    "question1 = \"What test failed?\"\n",
    "question2 = \"What caused the test failure?\"\n",
    "question3 = \"How can I get the failed test to pass?\"\n",
    "question4 = \"How can I get the failed test to pass without increasing the timeout?\"\n",
    "question5 = \"What pcap file was used for the failed test?\"\n",
    "question6 = \"Are there any issues with the pcap file?\"\n",
    "question7 = \"What VPP command line args were used?\"\n",
    "question8 = \"Are the command line arguments to VPP correct?\"\n",
    "question9 = \"What is the price of tea in China?\"\n",
    "\n",
    "parameters = {\n",
    "    \"maxTokenCount\":512,\n",
    "    \"stopSequences\":[],\n",
    "    \"temperature\":0,\n",
    "    \"topP\":0.9\n",
    "    }\n",
    "\n",
    "prompt_data = f\"\"\"Answer the question based only on the information provided between ##.\n",
    "#\n",
    "{context}\n",
    "#\n",
    "\n",
    "Question: {question1}\n",
    "Answer:\"\"\""
   ]
  },
  {
   "cell_type": "markdown",
   "metadata": {},
   "source": [
    "##### Invoke the model via boto3 to generate the response"
   ]
  },
  {
   "cell_type": "code",
   "execution_count": 75,
   "metadata": {
    "tags": []
   },
   "outputs": [
    {
     "name": "stdout",
     "output_type": "stream",
     "text": [
      "test_flowprobe.py::test_resolve_arp\n"
     ]
    }
   ],
   "source": [
    "body = json.dumps({\"inputText\": prompt_data, \"textGenerationConfig\": parameters})\n",
    "modelId = \"amazon.titan-tg1-large\"  # change this to use a different version from the model provider\n",
    "accept = \"application/json\"\n",
    "contentType = \"application/json\"\n",
    "\n",
    "response = boto3_bedrock.invoke_model(\n",
    "    body=body, modelId=modelId, accept=accept, contentType=contentType\n",
    ")\n",
    "response_body = json.loads(response.get(\"body\").read())\n",
    "answer = response_body.get(\"results\")[0].get(\"outputText\")\n",
    "print_ww(answer.strip())"
   ]
  },
  {
   "cell_type": "markdown",
   "metadata": {},
   "source": [
    "## Summary\n",
    "\n",
    "We see the response is a summarized and step by step instruction of how to change the tires . This simple example shows how you can leverage the `RAG` or the Augmentation process to generate a curated response back"
   ]
  }
 ],
 "metadata": {
  "availableInstances": [
   {
    "_defaultOrder": 0,
    "_isFastLaunch": true,
    "category": "General purpose",
    "gpuNum": 0,
    "hideHardwareSpecs": false,
    "memoryGiB": 4,
    "name": "ml.t3.medium",
    "vcpuNum": 2
   },
   {
    "_defaultOrder": 1,
    "_isFastLaunch": false,
    "category": "General purpose",
    "gpuNum": 0,
    "hideHardwareSpecs": false,
    "memoryGiB": 8,
    "name": "ml.t3.large",
    "vcpuNum": 2
   },
   {
    "_defaultOrder": 2,
    "_isFastLaunch": false,
    "category": "General purpose",
    "gpuNum": 0,
    "hideHardwareSpecs": false,
    "memoryGiB": 16,
    "name": "ml.t3.xlarge",
    "vcpuNum": 4
   },
   {
    "_defaultOrder": 3,
    "_isFastLaunch": false,
    "category": "General purpose",
    "gpuNum": 0,
    "hideHardwareSpecs": false,
    "memoryGiB": 32,
    "name": "ml.t3.2xlarge",
    "vcpuNum": 8
   },
   {
    "_defaultOrder": 4,
    "_isFastLaunch": true,
    "category": "General purpose",
    "gpuNum": 0,
    "hideHardwareSpecs": false,
    "memoryGiB": 8,
    "name": "ml.m5.large",
    "vcpuNum": 2
   },
   {
    "_defaultOrder": 5,
    "_isFastLaunch": false,
    "category": "General purpose",
    "gpuNum": 0,
    "hideHardwareSpecs": false,
    "memoryGiB": 16,
    "name": "ml.m5.xlarge",
    "vcpuNum": 4
   },
   {
    "_defaultOrder": 6,
    "_isFastLaunch": false,
    "category": "General purpose",
    "gpuNum": 0,
    "hideHardwareSpecs": false,
    "memoryGiB": 32,
    "name": "ml.m5.2xlarge",
    "vcpuNum": 8
   },
   {
    "_defaultOrder": 7,
    "_isFastLaunch": false,
    "category": "General purpose",
    "gpuNum": 0,
    "hideHardwareSpecs": false,
    "memoryGiB": 64,
    "name": "ml.m5.4xlarge",
    "vcpuNum": 16
   },
   {
    "_defaultOrder": 8,
    "_isFastLaunch": false,
    "category": "General purpose",
    "gpuNum": 0,
    "hideHardwareSpecs": false,
    "memoryGiB": 128,
    "name": "ml.m5.8xlarge",
    "vcpuNum": 32
   },
   {
    "_defaultOrder": 9,
    "_isFastLaunch": false,
    "category": "General purpose",
    "gpuNum": 0,
    "hideHardwareSpecs": false,
    "memoryGiB": 192,
    "name": "ml.m5.12xlarge",
    "vcpuNum": 48
   },
   {
    "_defaultOrder": 10,
    "_isFastLaunch": false,
    "category": "General purpose",
    "gpuNum": 0,
    "hideHardwareSpecs": false,
    "memoryGiB": 256,
    "name": "ml.m5.16xlarge",
    "vcpuNum": 64
   },
   {
    "_defaultOrder": 11,
    "_isFastLaunch": false,
    "category": "General purpose",
    "gpuNum": 0,
    "hideHardwareSpecs": false,
    "memoryGiB": 384,
    "name": "ml.m5.24xlarge",
    "vcpuNum": 96
   },
   {
    "_defaultOrder": 12,
    "_isFastLaunch": false,
    "category": "General purpose",
    "gpuNum": 0,
    "hideHardwareSpecs": false,
    "memoryGiB": 8,
    "name": "ml.m5d.large",
    "vcpuNum": 2
   },
   {
    "_defaultOrder": 13,
    "_isFastLaunch": false,
    "category": "General purpose",
    "gpuNum": 0,
    "hideHardwareSpecs": false,
    "memoryGiB": 16,
    "name": "ml.m5d.xlarge",
    "vcpuNum": 4
   },
   {
    "_defaultOrder": 14,
    "_isFastLaunch": false,
    "category": "General purpose",
    "gpuNum": 0,
    "hideHardwareSpecs": false,
    "memoryGiB": 32,
    "name": "ml.m5d.2xlarge",
    "vcpuNum": 8
   },
   {
    "_defaultOrder": 15,
    "_isFastLaunch": false,
    "category": "General purpose",
    "gpuNum": 0,
    "hideHardwareSpecs": false,
    "memoryGiB": 64,
    "name": "ml.m5d.4xlarge",
    "vcpuNum": 16
   },
   {
    "_defaultOrder": 16,
    "_isFastLaunch": false,
    "category": "General purpose",
    "gpuNum": 0,
    "hideHardwareSpecs": false,
    "memoryGiB": 128,
    "name": "ml.m5d.8xlarge",
    "vcpuNum": 32
   },
   {
    "_defaultOrder": 17,
    "_isFastLaunch": false,
    "category": "General purpose",
    "gpuNum": 0,
    "hideHardwareSpecs": false,
    "memoryGiB": 192,
    "name": "ml.m5d.12xlarge",
    "vcpuNum": 48
   },
   {
    "_defaultOrder": 18,
    "_isFastLaunch": false,
    "category": "General purpose",
    "gpuNum": 0,
    "hideHardwareSpecs": false,
    "memoryGiB": 256,
    "name": "ml.m5d.16xlarge",
    "vcpuNum": 64
   },
   {
    "_defaultOrder": 19,
    "_isFastLaunch": false,
    "category": "General purpose",
    "gpuNum": 0,
    "hideHardwareSpecs": false,
    "memoryGiB": 384,
    "name": "ml.m5d.24xlarge",
    "vcpuNum": 96
   },
   {
    "_defaultOrder": 20,
    "_isFastLaunch": false,
    "category": "General purpose",
    "gpuNum": 0,
    "hideHardwareSpecs": true,
    "memoryGiB": 0,
    "name": "ml.geospatial.interactive",
    "supportedImageNames": [
     "sagemaker-geospatial-v1-0"
    ],
    "vcpuNum": 0
   },
   {
    "_defaultOrder": 21,
    "_isFastLaunch": true,
    "category": "Compute optimized",
    "gpuNum": 0,
    "hideHardwareSpecs": false,
    "memoryGiB": 4,
    "name": "ml.c5.large",
    "vcpuNum": 2
   },
   {
    "_defaultOrder": 22,
    "_isFastLaunch": false,
    "category": "Compute optimized",
    "gpuNum": 0,
    "hideHardwareSpecs": false,
    "memoryGiB": 8,
    "name": "ml.c5.xlarge",
    "vcpuNum": 4
   },
   {
    "_defaultOrder": 23,
    "_isFastLaunch": false,
    "category": "Compute optimized",
    "gpuNum": 0,
    "hideHardwareSpecs": false,
    "memoryGiB": 16,
    "name": "ml.c5.2xlarge",
    "vcpuNum": 8
   },
   {
    "_defaultOrder": 24,
    "_isFastLaunch": false,
    "category": "Compute optimized",
    "gpuNum": 0,
    "hideHardwareSpecs": false,
    "memoryGiB": 32,
    "name": "ml.c5.4xlarge",
    "vcpuNum": 16
   },
   {
    "_defaultOrder": 25,
    "_isFastLaunch": false,
    "category": "Compute optimized",
    "gpuNum": 0,
    "hideHardwareSpecs": false,
    "memoryGiB": 72,
    "name": "ml.c5.9xlarge",
    "vcpuNum": 36
   },
   {
    "_defaultOrder": 26,
    "_isFastLaunch": false,
    "category": "Compute optimized",
    "gpuNum": 0,
    "hideHardwareSpecs": false,
    "memoryGiB": 96,
    "name": "ml.c5.12xlarge",
    "vcpuNum": 48
   },
   {
    "_defaultOrder": 27,
    "_isFastLaunch": false,
    "category": "Compute optimized",
    "gpuNum": 0,
    "hideHardwareSpecs": false,
    "memoryGiB": 144,
    "name": "ml.c5.18xlarge",
    "vcpuNum": 72
   },
   {
    "_defaultOrder": 28,
    "_isFastLaunch": false,
    "category": "Compute optimized",
    "gpuNum": 0,
    "hideHardwareSpecs": false,
    "memoryGiB": 192,
    "name": "ml.c5.24xlarge",
    "vcpuNum": 96
   },
   {
    "_defaultOrder": 29,
    "_isFastLaunch": true,
    "category": "Accelerated computing",
    "gpuNum": 1,
    "hideHardwareSpecs": false,
    "memoryGiB": 16,
    "name": "ml.g4dn.xlarge",
    "vcpuNum": 4
   },
   {
    "_defaultOrder": 30,
    "_isFastLaunch": false,
    "category": "Accelerated computing",
    "gpuNum": 1,
    "hideHardwareSpecs": false,
    "memoryGiB": 32,
    "name": "ml.g4dn.2xlarge",
    "vcpuNum": 8
   },
   {
    "_defaultOrder": 31,
    "_isFastLaunch": false,
    "category": "Accelerated computing",
    "gpuNum": 1,
    "hideHardwareSpecs": false,
    "memoryGiB": 64,
    "name": "ml.g4dn.4xlarge",
    "vcpuNum": 16
   },
   {
    "_defaultOrder": 32,
    "_isFastLaunch": false,
    "category": "Accelerated computing",
    "gpuNum": 1,
    "hideHardwareSpecs": false,
    "memoryGiB": 128,
    "name": "ml.g4dn.8xlarge",
    "vcpuNum": 32
   },
   {
    "_defaultOrder": 33,
    "_isFastLaunch": false,
    "category": "Accelerated computing",
    "gpuNum": 4,
    "hideHardwareSpecs": false,
    "memoryGiB": 192,
    "name": "ml.g4dn.12xlarge",
    "vcpuNum": 48
   },
   {
    "_defaultOrder": 34,
    "_isFastLaunch": false,
    "category": "Accelerated computing",
    "gpuNum": 1,
    "hideHardwareSpecs": false,
    "memoryGiB": 256,
    "name": "ml.g4dn.16xlarge",
    "vcpuNum": 64
   },
   {
    "_defaultOrder": 35,
    "_isFastLaunch": false,
    "category": "Accelerated computing",
    "gpuNum": 1,
    "hideHardwareSpecs": false,
    "memoryGiB": 61,
    "name": "ml.p3.2xlarge",
    "vcpuNum": 8
   },
   {
    "_defaultOrder": 36,
    "_isFastLaunch": false,
    "category": "Accelerated computing",
    "gpuNum": 4,
    "hideHardwareSpecs": false,
    "memoryGiB": 244,
    "name": "ml.p3.8xlarge",
    "vcpuNum": 32
   },
   {
    "_defaultOrder": 37,
    "_isFastLaunch": false,
    "category": "Accelerated computing",
    "gpuNum": 8,
    "hideHardwareSpecs": false,
    "memoryGiB": 488,
    "name": "ml.p3.16xlarge",
    "vcpuNum": 64
   },
   {
    "_defaultOrder": 38,
    "_isFastLaunch": false,
    "category": "Accelerated computing",
    "gpuNum": 8,
    "hideHardwareSpecs": false,
    "memoryGiB": 768,
    "name": "ml.p3dn.24xlarge",
    "vcpuNum": 96
   },
   {
    "_defaultOrder": 39,
    "_isFastLaunch": false,
    "category": "Memory Optimized",
    "gpuNum": 0,
    "hideHardwareSpecs": false,
    "memoryGiB": 16,
    "name": "ml.r5.large",
    "vcpuNum": 2
   },
   {
    "_defaultOrder": 40,
    "_isFastLaunch": false,
    "category": "Memory Optimized",
    "gpuNum": 0,
    "hideHardwareSpecs": false,
    "memoryGiB": 32,
    "name": "ml.r5.xlarge",
    "vcpuNum": 4
   },
   {
    "_defaultOrder": 41,
    "_isFastLaunch": false,
    "category": "Memory Optimized",
    "gpuNum": 0,
    "hideHardwareSpecs": false,
    "memoryGiB": 64,
    "name": "ml.r5.2xlarge",
    "vcpuNum": 8
   },
   {
    "_defaultOrder": 42,
    "_isFastLaunch": false,
    "category": "Memory Optimized",
    "gpuNum": 0,
    "hideHardwareSpecs": false,
    "memoryGiB": 128,
    "name": "ml.r5.4xlarge",
    "vcpuNum": 16
   },
   {
    "_defaultOrder": 43,
    "_isFastLaunch": false,
    "category": "Memory Optimized",
    "gpuNum": 0,
    "hideHardwareSpecs": false,
    "memoryGiB": 256,
    "name": "ml.r5.8xlarge",
    "vcpuNum": 32
   },
   {
    "_defaultOrder": 44,
    "_isFastLaunch": false,
    "category": "Memory Optimized",
    "gpuNum": 0,
    "hideHardwareSpecs": false,
    "memoryGiB": 384,
    "name": "ml.r5.12xlarge",
    "vcpuNum": 48
   },
   {
    "_defaultOrder": 45,
    "_isFastLaunch": false,
    "category": "Memory Optimized",
    "gpuNum": 0,
    "hideHardwareSpecs": false,
    "memoryGiB": 512,
    "name": "ml.r5.16xlarge",
    "vcpuNum": 64
   },
   {
    "_defaultOrder": 46,
    "_isFastLaunch": false,
    "category": "Memory Optimized",
    "gpuNum": 0,
    "hideHardwareSpecs": false,
    "memoryGiB": 768,
    "name": "ml.r5.24xlarge",
    "vcpuNum": 96
   },
   {
    "_defaultOrder": 47,
    "_isFastLaunch": false,
    "category": "Accelerated computing",
    "gpuNum": 1,
    "hideHardwareSpecs": false,
    "memoryGiB": 16,
    "name": "ml.g5.xlarge",
    "vcpuNum": 4
   },
   {
    "_defaultOrder": 48,
    "_isFastLaunch": false,
    "category": "Accelerated computing",
    "gpuNum": 1,
    "hideHardwareSpecs": false,
    "memoryGiB": 32,
    "name": "ml.g5.2xlarge",
    "vcpuNum": 8
   },
   {
    "_defaultOrder": 49,
    "_isFastLaunch": false,
    "category": "Accelerated computing",
    "gpuNum": 1,
    "hideHardwareSpecs": false,
    "memoryGiB": 64,
    "name": "ml.g5.4xlarge",
    "vcpuNum": 16
   },
   {
    "_defaultOrder": 50,
    "_isFastLaunch": false,
    "category": "Accelerated computing",
    "gpuNum": 1,
    "hideHardwareSpecs": false,
    "memoryGiB": 128,
    "name": "ml.g5.8xlarge",
    "vcpuNum": 32
   },
   {
    "_defaultOrder": 51,
    "_isFastLaunch": false,
    "category": "Accelerated computing",
    "gpuNum": 1,
    "hideHardwareSpecs": false,
    "memoryGiB": 256,
    "name": "ml.g5.16xlarge",
    "vcpuNum": 64
   },
   {
    "_defaultOrder": 52,
    "_isFastLaunch": false,
    "category": "Accelerated computing",
    "gpuNum": 4,
    "hideHardwareSpecs": false,
    "memoryGiB": 192,
    "name": "ml.g5.12xlarge",
    "vcpuNum": 48
   },
   {
    "_defaultOrder": 53,
    "_isFastLaunch": false,
    "category": "Accelerated computing",
    "gpuNum": 4,
    "hideHardwareSpecs": false,
    "memoryGiB": 384,
    "name": "ml.g5.24xlarge",
    "vcpuNum": 96
   },
   {
    "_defaultOrder": 54,
    "_isFastLaunch": false,
    "category": "Accelerated computing",
    "gpuNum": 8,
    "hideHardwareSpecs": false,
    "memoryGiB": 768,
    "name": "ml.g5.48xlarge",
    "vcpuNum": 192
   },
   {
    "_defaultOrder": 55,
    "_isFastLaunch": false,
    "category": "Accelerated computing",
    "gpuNum": 8,
    "hideHardwareSpecs": false,
    "memoryGiB": 1152,
    "name": "ml.p4d.24xlarge",
    "vcpuNum": 96
   },
   {
    "_defaultOrder": 56,
    "_isFastLaunch": false,
    "category": "Accelerated computing",
    "gpuNum": 8,
    "hideHardwareSpecs": false,
    "memoryGiB": 1152,
    "name": "ml.p4de.24xlarge",
    "vcpuNum": 96
   },
   {
    "_defaultOrder": 57,
    "_isFastLaunch": false,
    "category": "Accelerated computing",
    "gpuNum": 0,
    "hideHardwareSpecs": false,
    "memoryGiB": 32,
    "name": "ml.trn1.2xlarge",
    "vcpuNum": 8
   },
   {
    "_defaultOrder": 58,
    "_isFastLaunch": false,
    "category": "Accelerated computing",
    "gpuNum": 0,
    "hideHardwareSpecs": false,
    "memoryGiB": 512,
    "name": "ml.trn1.32xlarge",
    "vcpuNum": 128
   },
   {
    "_defaultOrder": 59,
    "_isFastLaunch": false,
    "category": "Accelerated computing",
    "gpuNum": 0,
    "hideHardwareSpecs": false,
    "memoryGiB": 512,
    "name": "ml.trn1n.32xlarge",
    "vcpuNum": 128
   }
  ],
  "instance_type": "ml.g5.12xlarge",
  "kernelspec": {
   "display_name": "Python 3 (Data Science 3.0)",
   "language": "python",
   "name": "python3__SAGEMAKER_INTERNAL__arn:aws:sagemaker:us-east-1:081325390199:image/sagemaker-data-science-310-v1"
  },
  "language_info": {
   "codemirror_mode": {
    "name": "ipython",
    "version": 3
   },
   "file_extension": ".py",
   "mimetype": "text/x-python",
   "name": "python",
   "nbconvert_exporter": "python",
   "pygments_lexer": "ipython3",
   "version": "3.10.6"
  }
 },
 "nbformat": 4,
 "nbformat_minor": 4
}
